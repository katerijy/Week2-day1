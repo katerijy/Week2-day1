{
 "cells": [
  {
   "cell_type": "code",
   "execution_count": 2,
   "metadata": {},
   "outputs": [
    {
     "name": "stdout",
     "output_type": "stream",
     "text": [
      "<function square_footage at 0x7feacee721f0>\n"
     ]
    }
   ],
   "source": [
    "def square_footage():\n",
    "    length = input(\"How long is your house?\")\n",
    " \n",
    "    width = input(\"Enter Width of your House\")\n",
    "     \n",
    "    square_footage = int(length) * int(width)\n",
    "    \n",
    "print(square_footage)"
   ]
  },
  {
   "cell_type": "code",
   "execution_count": 3,
   "metadata": {},
   "outputs": [
    {
     "name": "stdout",
     "output_type": "stream",
     "text": [
      "<function circle_size at 0x7feacef0d670> is the diameter of your circle\n"
     ]
    }
   ],
   "source": [
    "def circle_size():\n",
    "    d = input(\"what is the diameter of your circle?\")\n",
    "    import math\n",
    "    circle_size = int(d)*(pi)\n",
    "print(f\"{circle_size} is the diameter of your circle\")"
   ]
  }
 ],
 "metadata": {
  "kernelspec": {
   "display_name": "Python 3",
   "language": "python",
   "name": "python3"
  },
  "language_info": {
   "codemirror_mode": {
    "name": "ipython",
    "version": 3
   },
   "file_extension": ".py",
   "mimetype": "text/x-python",
   "name": "python",
   "nbconvert_exporter": "python",
   "pygments_lexer": "ipython3",
   "version": "3.8.5"
  }
 },
 "nbformat": 4,
 "nbformat_minor": 4
}
