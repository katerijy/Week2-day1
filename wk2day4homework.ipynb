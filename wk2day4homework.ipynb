{
 "cells": [
  {
   "cell_type": "code",
   "execution_count": null,
   "metadata": {},
   "outputs": [],
   "source": [
    "#i tried 2 different ways and both do not work!"
   ]
  },
  {
   "cell_type": "code",
   "execution_count": null,
   "metadata": {},
   "outputs": [],
   "source": [
    "color = input(\"What color is your string?\")\n",
    "size = input(\"how long is your string?\")\n",
    "material = input (\"What is your string made out of?\")\n",
    "stringStr = ((color), (size), (material))\n",
    "print(stringStr)\n",
    "\n",
    "class String():\n",
    "    \n",
    "    def __init__(self, color, size, material):\n",
    "        self.color = color\n",
    "        self.size = size\n",
    "        self.material = material\n",
    "    \n",
    "user_string = String(stringStr)\n",
    "print(f'Your string is ({color.upper()}), {size.upper()} long, and made of {material.upper()}.')\n",
    "\n"
   ]
  },
  {
   "cell_type": "code",
   "execution_count": null,
   "metadata": {},
   "outputs": [],
   "source": [
    "class String():\n",
    "    \n",
    "    def __init__(self, color, size, material):\n",
    "        self.color = color\n",
    "        self.size = size\n",
    "        self.material = material\n",
    "        \n",
    "    def userInput(input):\n",
    "        color = input(\"What color is your string?\")\n",
    "        size = input(\"how long is your string?\")\n",
    "        material = input (\"What is your string made out of?\")\n",
    "\n",
    "print(f'Your string is ({color.upper()}), {size.upper()} long, and made of {material.upper()}.')\n",
    "        \n",
    "        \n",
    "        \n",
    "    "
   ]
  },
  {
   "cell_type": "code",
   "execution_count": null,
   "metadata": {},
   "outputs": [],
   "source": [
    "#this was copied and pasted from slack and it does not work. "
   ]
  },
  {
   "cell_type": "code",
   "execution_count": null,
   "metadata": {},
   "outputs": [],
   "source": [
    "# Shopping Cart Example\n",
    "from IPython.display import clear_output\n",
    "# Create Global List\n",
    "cart = {}\n",
    "# Smaller helper functions\n",
    "def showItems():\n",
    "    for item in cart:\n",
    "        print(item)\n",
    "def addItem():\n",
    "    item = input(\"What would you like to add to your cart? \").lower()\n",
    "    cart.append(item)\n",
    "def removeItem():\n",
    "    item = input(\"What item would you like to remove from your cart? \").lower()\n",
    "    while item not in cart:\n",
    "        print(f\"{item} is not in cart\")\n",
    "        item = input(\"What would you like to remove?\")\n",
    "    cart.remove(item)\n",
    "def clearItems():\n",
    "    clear_output()\n",
    "    sure = input(\"Are you sure? y/n\").lower()\n",
    "    if sure == 'y':\n",
    "        cart.clear()\n",
    "        print(\"Your cart has been cleared\")\n",
    "    else:\n",
    "        print(\"Not cleared\")\n",
    "# Create a function that will continue to loop and ask the user add/remove/show/clear or quit\n",
    "def shoppingCart():\n",
    "    while True:\n",
    "        response = input(\"What do you want to do? Add/Remove/Show/Clear or Quit? \").lower()\n",
    "        if response == 'quit':\n",
    "            # Add function to show items in cart\n",
    "            showItems()\n",
    "            break\n",
    "        elif response == 'add':\n",
    "            # Add function to add items to cart\n",
    "            addItem()\n",
    "            clear_output()\n",
    "        elif response == 'remove':\n",
    "            # Add function to remove items from cart\n",
    "            removeItem()\n",
    "            clear_output()\n",
    "        elif response == 'show':\n",
    "            # Add function to show items in cart\n",
    "            showItems()\n",
    "        elif response == 'clear':\n",
    "            # Add function to clear items from cart\n",
    "            clearItems()\n",
    "        else:\n",
    "            clear_output()\n",
    "            print(\"That response is not valid.\")\n",
    "shoppingCart()"
   ]
  },
  {
   "cell_type": "code",
   "execution_count": null,
   "metadata": {},
   "outputs": [],
   "source": [
    "ShoppingCart():\n",
    "    def __init__(self, add, remove, show):\n",
    "        self.add = add\n",
    "        self.reove = remove\n",
    "        self.show = show\n",
    "        \n",
    "    def show_cart(self):\n",
    "        "
   ]
  }
 ],
 "metadata": {
  "kernelspec": {
   "display_name": "Python 3",
   "language": "python",
   "name": "python3"
  },
  "language_info": {
   "codemirror_mode": {
    "name": "ipython",
    "version": 3
   },
   "file_extension": ".py",
   "mimetype": "text/x-python",
   "name": "python",
   "nbconvert_exporter": "python",
   "pygments_lexer": "ipython3",
   "version": "3.8.5"
  }
 },
 "nbformat": 4,
 "nbformat_minor": 4
}
