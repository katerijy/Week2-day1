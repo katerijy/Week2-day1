{
 "cells": [
  {
   "cell_type": "code",
   "execution_count": 9,
   "metadata": {},
   "outputs": [
    {
     "ename": "SyntaxError",
     "evalue": "invalid syntax (<ipython-input-9-f2ecf8c1b7de>, line 2)",
     "output_type": "error",
     "traceback": [
      "\u001b[0;36m  File \u001b[0;32m\"<ipython-input-9-f2ecf8c1b7de>\"\u001b[0;36m, line \u001b[0;32m2\u001b[0m\n\u001b[0;31m    def square_footage(1000, 800)\u001b[0m\n\u001b[0m                       ^\u001b[0m\n\u001b[0;31mSyntaxError\u001b[0m\u001b[0;31m:\u001b[0m invalid syntax\n"
     ]
    }
   ],
   "source": [
    "from kw_mod.ipynb import *\n",
    "def square_footage(1000, 800)"
   ]
  },
  {
   "cell_type": "code",
   "execution_count": 10,
   "metadata": {},
   "outputs": [
    {
     "ename": "SyntaxError",
     "evalue": "invalid syntax (<ipython-input-10-97fe82893abc>, line 1)",
     "output_type": "error",
     "traceback": [
      "\u001b[0;36m  File \u001b[0;32m\"<ipython-input-10-97fe82893abc>\"\u001b[0;36m, line \u001b[0;32m1\u001b[0m\n\u001b[0;31m    def circle_size(50)\u001b[0m\n\u001b[0m                    ^\u001b[0m\n\u001b[0;31mSyntaxError\u001b[0m\u001b[0;31m:\u001b[0m invalid syntax\n"
     ]
    }
   ],
   "source": [
    "def circle_size(50)\n"
   ]
  },
  {
   "cell_type": "code",
   "execution_count": 5,
   "metadata": {},
   "outputs": [],
   "source": [
    "# 1) Takes in input\n",
    "# 2) Stores user input into a dictionary or list\n",
    "# 3) The User can add or delete items\n",
    "# 4) The User can see current shopping list\n",
    "# 5) The program Loops until user 'quits'\n",
    "# 6) Upon quiting the program, print out all items in the user's list\n",
    "# # Ask the user four bits of input: Do you want to : Show/Add/Delete or Quit?"
   ]
  },
  {
   "cell_type": "code",
   "execution_count": null,
   "metadata": {},
   "outputs": [],
   "source": [
    "# Proper steps:\n",
    "# step 1: write a function that takes in information and stores it in a dictionary\n",
    " eo = {\n",
    "        \"lavendar\": \"20.99\",\n",
    "        \"Pachouli\": \"40.99\",\n",
    "        \"Rose\": \"90.99\",\n",
    "        \"Peppermint\": \"18.99\"\n",
    "    }\n",
    "    \n",
    "def ShoppingCart():\n",
    "    #Question 1: \"What would you like to buy today?\"\n",
    "    Items = input(\"Add Items here\")\n",
    "        print(f\"The price for {key} is ${value}\")\n",
    "        \n",
    "    #Question 2: \"Would you like something else?\"\n",
    "    Items = input(\"Add Items here\")\n",
    "        print(f\"The price for {key} is ${value}\")\n",
    "        \n",
    "    #Question 3: \"Modify your shopping cart?\"   \n",
    "        input(\"Add Items here\")\n",
    "        print added key and its value\n",
    "        \n",
    "        input(\"Remove items here\")\n",
    "        print removed items from eo{}\n",
    "    \n",
    "    #if No, Question 4: \"Are you ready to check out?\"\n",
    "    #code for break\n",
    "    #code for printing out total\n",
    "\n",
    "   \n"
   ]
  }
 ],
 "metadata": {
  "kernelspec": {
   "display_name": "Python 3",
   "language": "python",
   "name": "python3"
  },
  "language_info": {
   "codemirror_mode": {
    "name": "ipython",
    "version": 3
   },
   "file_extension": ".py",
   "mimetype": "text/x-python",
   "name": "python",
   "nbconvert_exporter": "python",
   "pygments_lexer": "ipython3",
   "version": "3.8.5"
  }
 },
 "nbformat": 4,
 "nbformat_minor": 4
}
