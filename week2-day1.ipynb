{
 "cells": [
  {
   "cell_type": "code",
   "execution_count": null,
   "metadata": {},
   "outputs": [],
   "source": [
    "# ## Exercise #1 <br>\n",
    "# <p>Cube Number Test... Print out all cubed numbers up to the total value 1000. Meaning that \n",
    "\n",
    "# #if the cube number is greater than 1000, break the loop\n",
    "\n",
    "# ## Exercise #2 <br>\n",
    "# <p>Get first prime numbers up to 100</p>\n",
    "\n",
    "# # HINT::\n",
    "# # An else after an if runs if the if didn’t\n",
    "# # An else after a for runs if the for didn’t break\n",
    "\n",
    "# #for i in names: \n",
    "# #if i in names == \"william\":\n",
    "#     break\n",
    "# else:\n",
    "#     print('no william')\n",
    "\n",
    "\n",
    "# # Exercise 3 <br>\n",
    "# <p>Take in a users input for their age, if \n",
    "# they are younger than 18 print kids, if they're 18 to 65 print adults, else print seniors</p>\n",
    "\n",
    "# Age = input('what is your age?')\n",
    "#     if \n"
   ]
  },
  {
   "cell_type": "code",
   "execution_count": 5,
   "metadata": {
    "scrolled": true
   },
   "outputs": [
    {
     "ename": "SyntaxError",
     "evalue": "unexpected EOF while parsing (<ipython-input-5-03d697b667fd>, line 2)",
     "output_type": "error",
     "traceback": [
      "\u001b[0;36m  File \u001b[0;32m\"<ipython-input-5-03d697b667fd>\"\u001b[0;36m, line \u001b[0;32m2\u001b[0m\n\u001b[0;31m    \u001b[0m\n\u001b[0m    ^\u001b[0m\n\u001b[0;31mSyntaxError\u001b[0m\u001b[0;31m:\u001b[0m unexpected EOF while parsing\n"
     ]
    }
   ],
   "source": [
    "list(range(2,1001,2)\n",
    "    "
   ]
  },
  {
   "cell_type": "code",
   "execution_count": 5,
   "metadata": {},
   "outputs": [
    {
     "ename": "SyntaxError",
     "evalue": "invalid syntax (<ipython-input-5-0cfa700873bb>, line 5)",
     "output_type": "error",
     "traceback": [
      "\u001b[0;36m  File \u001b[0;32m\"<ipython-input-5-0cfa700873bb>\"\u001b[0;36m, line \u001b[0;32m5\u001b[0m\n\u001b[0;31m    25*25*2=\u001b[0m\n\u001b[0m            ^\u001b[0m\n\u001b[0;31mSyntaxError\u001b[0m\u001b[0;31m:\u001b[0m invalid syntax\n"
     ]
    }
   ],
   "source": [
    "i = \n",
    "            print(i)\n",
    "            \n",
    "            \n",
    "            "
   ]
  }
 ],
 "metadata": {
  "kernelspec": {
   "display_name": "Python 3",
   "language": "python",
   "name": "python3"
  },
  "language_info": {
   "codemirror_mode": {
    "name": "ipython",
    "version": 3
   },
   "file_extension": ".py",
   "mimetype": "text/x-python",
   "name": "python",
   "nbconvert_exporter": "python",
   "pygments_lexer": "ipython3",
   "version": "3.8.5"
  }
 },
 "nbformat": 4,
 "nbformat_minor": 4
}
